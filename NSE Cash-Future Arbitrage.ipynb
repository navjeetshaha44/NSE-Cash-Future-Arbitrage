{
 "cells": [
  {
   "cell_type": "code",
   "execution_count": 2,
   "metadata": {},
   "outputs": [
    {
     "ename": "NameError",
     "evalue": "name 'Zerodha' is not defined",
     "output_type": "error",
     "traceback": [
      "\u001b[1;31m---------------------------------------------------------------------------\u001b[0m",
      "\u001b[1;31mNameError\u001b[0m                                 Traceback (most recent call last)",
      "\u001b[1;32m<ipython-input-2-1dd53e68e955>\u001b[0m in \u001b[0;36m<module>\u001b[1;34m\u001b[0m\n\u001b[0;32m      1\u001b[0m \u001b[1;31m#Cash-Fut Arbitrage:\u001b[0m\u001b[1;33m\u001b[0m\u001b[1;33m\u001b[0m\u001b[1;33m\u001b[0m\u001b[0m\n\u001b[0;32m      2\u001b[0m \u001b[1;32mfrom\u001b[0m \u001b[0mkiteconnect\u001b[0m \u001b[1;32mimport\u001b[0m \u001b[0mKiteConnect\u001b[0m\u001b[1;33m\u001b[0m\u001b[1;33m\u001b[0m\u001b[0m\n\u001b[1;32m----> 3\u001b[1;33m \u001b[0mkite\u001b[0m \u001b[1;33m=\u001b[0m \u001b[0mZerodha\u001b[0m\u001b[1;33m(\u001b[0m\u001b[1;33m)\u001b[0m\u001b[1;33m\u001b[0m\u001b[1;33m\u001b[0m\u001b[0m\n\u001b[0m\u001b[0;32m      4\u001b[0m \u001b[0mkite\u001b[0m\u001b[1;33m.\u001b[0m\u001b[0mset_access_token\u001b[0m\u001b[1;33m(\u001b[0m\u001b[1;33m)\u001b[0m\u001b[1;33m\u001b[0m\u001b[1;33m\u001b[0m\u001b[0m\n\u001b[0;32m      5\u001b[0m \u001b[0mprofile\u001b[0m \u001b[1;33m=\u001b[0m \u001b[0mkite\u001b[0m\u001b[1;33m.\u001b[0m\u001b[0mprofile\u001b[0m\u001b[1;33m(\u001b[0m\u001b[1;33m)\u001b[0m\u001b[1;33m\u001b[0m\u001b[1;33m\u001b[0m\u001b[0m\n",
      "\u001b[1;31mNameError\u001b[0m: name 'Zerodha' is not defined"
     ]
    }
   ],
   "source": [
    "#Cash-Fut Arbitrage:\n",
    "#the algorithm requires the user to be connected with Zerodha-API make sure you print the kite profile before running this algorithm.\n",
    "\n",
    "scrip_name=input('symbol:')\n",
    "scrip_fut=input('fut_symbol:')\n",
    "curr_time=datetime.datetime(2021,6,1,15,30)\n",
    "diff=[]\n",
    "flag=0\n",
    "\n",
    "\n",
    "while datetime.datetime.now()<curr_time:\n",
    "    cash_bid=kite.quote('NSE:'+scrip_name)['NSE:'+ scrip_name]['depth']['buy'][0]['price']\n",
    "    cash_ask=kite.quote('NSE:'+scrip_name)['NSE:'+ scrip_name]['depth']['sell'][0]['price']\n",
    "    fut_bid= kite.quote('NFO:'+scrip_fut)['NFO:'+ scrip_fut]['depth']['buy'][0]['price']\n",
    "    fut_ask= kite.quote('NFO:'+scrip_fut)['NFO:'+ scrip_fut]['depth']['sell'][0]['price']\n",
    "    ltp=kite.ltp('NSE:'+scrip_name)['NSE:'+ scrip_name]['last_price']\n",
    "    \n",
    "    cash_fut= round(cash_bid-fut_ask,4)\n",
    "    fut_cash=round(fut_bid-cash_ask,4)\n",
    "    \n",
    "    if fut_cash>(0.01*ltp) and flag==0:\n",
    "                \n",
    "        kite.place_order(variety='regular',exchange='NSE',tradingsymbol=scrip_name,transaction_type='BUY',quantity=600,product='MIS',\n",
    "                     order_type='MARKET',price='None',validity='DAY',disclosed_quantity=None,trigger_price=None,squareoff=None,stoploss=None,\n",
    "                     trailing_stoploss=None, tag=None)\n",
    "        kite.place_order(variety='regular',exchange='NFO',tradingsymbol=scrip_fut,transaction_type='SELL',quantity=600,product='MIS',\n",
    "                     order_type='MARKET',price='None',validity='DAY',disclosed_quantity=None,trigger_price=None,squareoff=None,stoploss=None,\n",
    "                     trailing_stoploss=None, tag=None)\n",
    "    \n",
    "    flag=1\n",
    "    \n",
    "    diff.append(fut_cash)\n",
    "    \n",
    "    \n",
    "    print(diff)\n",
    "    time.sleep(5)\n",
    "    \n",
    "    \n",
    "    \n",
    "\n"
   ]
  },
  {
   "cell_type": "code",
   "execution_count": null,
   "metadata": {},
   "outputs": [],
   "source": []
  }
 ],
 "metadata": {
  "kernelspec": {
   "display_name": "Python 3",
   "language": "python",
   "name": "python3"
  },
  "language_info": {
   "codemirror_mode": {
    "name": "ipython",
    "version": 3
   },
   "file_extension": ".py",
   "mimetype": "text/x-python",
   "name": "python",
   "nbconvert_exporter": "python",
   "pygments_lexer": "ipython3",
   "version": "3.7.6"
  }
 },
 "nbformat": 4,
 "nbformat_minor": 4
}
